{
 "cells": [
  {
   "cell_type": "code",
   "execution_count": null,
   "id": "ae468659-d119-42d6-9588-ea6f8cb76cdb",
   "metadata": {},
   "outputs": [],
   "source": []
  }
 ],
 "metadata": {
  "kernelspec": {
   "display_name": "",
   "name": ""
  },
  "language_info": {
   "name": ""
  }
 },
 "nbformat": 4,
 "nbformat_minor": 5
}
