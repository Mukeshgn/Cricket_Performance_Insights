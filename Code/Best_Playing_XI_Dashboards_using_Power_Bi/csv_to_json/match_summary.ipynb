{
 "cells": [
  {
   "cell_type": "code",
   "execution_count": 3,
   "id": "c6491685-5f8d-4b8d-a9e1-491878055615",
   "metadata": {},
   "outputs": [
    {
     "name": "stdout",
     "output_type": "stream",
     "text": [
      "CSV successfully converted to JSON and save as ../json/match_summary.json\n"
     ]
    }
   ],
   "source": [
    "import pandas as pd\n",
    "import json\n",
    "\n",
    "# Read CSV file\n",
    "csv_file='../csv/match_summary.csv' # Replace with your CSV file path\n",
    "\n",
    "df=pd.read_csv(csv_file)\n",
    "\n",
    "# Convert DataFrame to JSON Format\n",
    "match_summary = []\n",
    "\n",
    "for _,row in df.iterrows():\n",
    "    match = {\n",
    "        \"team1\":row[\"team1\"],\n",
    "        \"team2\":row[\"team2\"],\n",
    "        \"winner\":row[\"winner\"],\n",
    "        \"margin\":row[\"margin\"],\n",
    "        \"ground\":row[\"ground\"],\n",
    "        \"matchDate\":row[\"matchDate\"],\n",
    "        \"match_id\":row[\"match_id\"]\n",
    "    }\n",
    "    match_summary.append(match)\n",
    " \n",
    "# Wrap the list with \"matchSummary\" only in the first dictionary\n",
    "final_json = [{\"matchSummary\": match_summary}]\n",
    "\n",
    "# Save JSON file\n",
    "json_filename='../json/match_summary.json' # Replace with your desired output JSON file path\n",
    "\n",
    "with open(json_filename,\"w\") as f:\n",
    "    json.dump(final_json,f,indent=2)\n",
    "    \n",
    "print(f\"CSV successfully converted to JSON and save as {json_file}\")"
   ]
  },
  {
   "cell_type": "code",
   "execution_count": null,
   "id": "b2375473-baf0-4e50-bf09-72ff78f0fa78",
   "metadata": {},
   "outputs": [],
   "source": []
  }
 ],
 "metadata": {
  "kernelspec": {
   "display_name": "Python 3 (ipykernel)",
   "language": "python",
   "name": "python3"
  },
  "language_info": {
   "codemirror_mode": {
    "name": "ipython",
    "version": 3
   },
   "file_extension": ".py",
   "mimetype": "text/x-python",
   "name": "python",
   "nbconvert_exporter": "python",
   "pygments_lexer": "ipython3",
   "version": "3.13.0"
  }
 },
 "nbformat": 4,
 "nbformat_minor": 5
}
