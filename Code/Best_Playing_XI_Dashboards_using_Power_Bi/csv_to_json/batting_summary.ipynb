{
 "cells": [
  {
   "cell_type": "code",
   "execution_count": 5,
   "id": "1270112a-0b13-4039-afaf-cd47aff1df68",
   "metadata": {},
   "outputs": [
    {
     "name": "stdout",
     "output_type": "stream",
     "text": [
      "CSV successfully converted to JSON and save as ../json/batting_score.json\n"
     ]
    }
   ],
   "source": [
    "import pandas as pd\n",
    "import json\n",
    "\n",
    "# Read CSV file\n",
    "csv_file='../csv/batting_score.csv' # Replace with your CSV file path\n",
    "\n",
    "df=pd.read_csv(csv_file)\n",
    "\n",
    "# Convert to JSON\n",
    "json_file='../json/batting_score.json' # Replace with your desired output JSON file path\n",
    "\n",
    "df.to_json(json_file,orient=\"records\",indent=4)\n",
    "\n",
    "print(f\"CSV successfully converted to JSON and save as {json_file}\")"
   ]
  },
  {
   "cell_type": "code",
   "execution_count": 6,
   "id": "b6338355-d55d-4dd7-9b03-5db474b24a40",
   "metadata": {},
   "outputs": [
    {
     "name": "stdout",
     "output_type": "stream",
     "text": [
      "CSV successfully converted to JSON and save as ../json/batting_score.json\n"
     ]
    }
   ],
   "source": [
    "import pandas as pd\n",
    "import json\n",
    "from collections import defaultdict\n",
    "\n",
    "# Read CSV file\n",
    "csv_file='../csv/batting_score.csv' # Replace with your CSV file path\n",
    "\n",
    "df=pd.read_csv(csv_file)\n",
    "\n",
    "# Define the column to group by(matchNo)\n",
    "key_column=\"matchNo\"\n",
    "\n",
    "# Droup data by matchNo\n",
    "grouped_data=defaultdict(list)\n",
    "\n",
    "for _,row in df.iterrows():\n",
    "    key = row[key_column] # Extract key from the specified column\n",
    "    value = row.drop(key_column).to_dict() # Convert remaining columns to dictionary\n",
    "    grouped_data[key].append(value) # Append tp list under the key\n",
    "\n",
    "# Convert the grouped data into desired JSON structure\n",
    "data_list = [{\"battingSummary\": values} for values in grouped_data.values()]\n",
    "\n",
    "\n",
    "# Save JSON file\n",
    "json_file='../json/batting_score.json' # Replace with your desired output JSON file path\n",
    "\n",
    "with open(json_file,\"w\",encoding=\"utf-8\") as f:\n",
    "    json.dump(data_list,f,indent=4)\n",
    "    \n",
    "print(f\"CSV successfully converted to JSON and save as {json_file}\")"
   ]
  },
  {
   "cell_type": "code",
   "execution_count": null,
   "id": "58ae798d-f6d2-4f0c-9d7c-4169f18b2c5c",
   "metadata": {},
   "outputs": [],
   "source": []
  }
 ],
 "metadata": {
  "kernelspec": {
   "display_name": "Python 3 (ipykernel)",
   "language": "python",
   "name": "python3"
  },
  "language_info": {
   "codemirror_mode": {
    "name": "ipython",
    "version": 3
   },
   "file_extension": ".py",
   "mimetype": "text/x-python",
   "name": "python",
   "nbconvert_exporter": "python",
   "pygments_lexer": "ipython3",
   "version": "3.13.0"
  }
 },
 "nbformat": 4,
 "nbformat_minor": 5
}
