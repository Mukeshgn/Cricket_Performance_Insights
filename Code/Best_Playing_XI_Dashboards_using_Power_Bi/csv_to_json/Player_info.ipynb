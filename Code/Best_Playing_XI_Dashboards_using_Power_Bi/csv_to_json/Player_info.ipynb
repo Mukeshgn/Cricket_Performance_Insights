{
 "cells": [
  {
   "cell_type": "code",
   "execution_count": 3,
   "id": "dc62c8bf-c4fd-4341-9ca3-b365f3e54f27",
   "metadata": {},
   "outputs": [
    {
     "name": "stdout",
     "output_type": "stream",
     "text": [
      "CSV successfully converted to JSON and save as ../json/player_details.json\n"
     ]
    }
   ],
   "source": [
    "import pandas as pd\n",
    "import json\n",
    "\n",
    "# Read CSV file\n",
    "csv_file='../csv/player_details.csv' # Replace with your CSV file path\n",
    "\n",
    "df=pd.read_csv(csv_file)\n",
    "\n",
    "# Convert to JSON\n",
    "json_file='../json/player_details.json' # Replace with your desired output JSON file path\n",
    "\n",
    "df.to_json(json_file,orient=\"records\",indent=4)\n",
    "\n",
    "print(f\"CSV successfully converted to JSON and save as {json_file}\")"
   ]
  },
  {
   "cell_type": "code",
   "execution_count": null,
   "id": "12ac60f7-c9f2-4198-9b31-95afeb71ff45",
   "metadata": {},
   "outputs": [],
   "source": []
  },
  {
   "cell_type": "code",
   "execution_count": null,
   "id": "2f3f39e7-c287-48c3-a456-8730c1f6bab1",
   "metadata": {},
   "outputs": [],
   "source": []
  },
  {
   "cell_type": "code",
   "execution_count": null,
   "id": "7810d08d-f148-4afa-8b68-518695259f5a",
   "metadata": {},
   "outputs": [],
   "source": []
  }
 ],
 "metadata": {
  "kernelspec": {
   "display_name": "Python 3 (ipykernel)",
   "language": "python",
   "name": "python3"
  },
  "language_info": {
   "codemirror_mode": {
    "name": "ipython",
    "version": 3
   },
   "file_extension": ".py",
   "mimetype": "text/x-python",
   "name": "python",
   "nbconvert_exporter": "python",
   "pygments_lexer": "ipython3",
   "version": "3.13.0"
  }
 },
 "nbformat": 4,
 "nbformat_minor": 5
}
